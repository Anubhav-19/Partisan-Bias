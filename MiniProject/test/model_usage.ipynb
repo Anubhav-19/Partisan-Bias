{
 "cells": [
  {
   "cell_type": "code",
   "execution_count": 36,
   "source": [
    "from flask import Flask, render_template, request, redirect, url_for\r\n",
    "from keras.models import load_model\r\n",
    "from keras.preprocessing.sequence import pad_sequences\r\n",
    "from keras.preprocessing.text import Tokenizer\r\n",
    "from selenium import webdriver\r\n",
    "from selenium.webdriver.common.keys import Keys\r\n",
    "from string import Template\r\n",
    "import time, requests, numpy\r\n",
    "from bs4 import BeautifulSoup"
   ],
   "outputs": [],
   "metadata": {}
  },
  {
   "cell_type": "code",
   "execution_count": 37,
   "source": [
    "############################### GLOBAL VARIABLES #######################################\r\n",
    "\r\n",
    "# Made these global so both @app.route functions and checkURL can access them.\r\n",
    "conservativeURL   = ' '\r\n",
    "liberalURL        = ' '\r\n",
    "neutralURL        = ' '\r\n",
    "cLinkName         = ' '\r\n",
    "lLinkName         = ' '\r\n",
    "nLinkName         = ' '\r\n",
    "errMessage        = ' '\r\n",
    "loadedModel       = load_model('finalizedModel.h5')\r\n",
    "MAX_REVIEW_LENGTH = 500\r\n",
    "TOP_WORDS = 5000                # Most-used words in the article.\r\n",
    "NEUTRALBEGIN = 0.4                   # Article is predicted to not be politically biased.\r\n",
    "NEUTRALEND = 0.6\r\n",
    "\r\n",
    "\r\n"
   ],
   "outputs": [],
   "metadata": {}
  },
  {
   "cell_type": "code",
   "execution_count": 38,
   "source": [
    "\r\n",
    "################################### FUNCTIONS ##########################################\r\n",
    "\r\n",
    "# Runs article through algorithm and determines if it is politically biased and how.\r\n",
    "# If politically biased and its biased URL isn't filled, fill its bias' URL slot.\r\n",
    "def checkURL(url, text, linkName):\r\n",
    "    global conservativeURL\r\n",
    "    global liberalURL\r\n",
    "    global cLinkName\r\n",
    "    global lLinkName\r\n",
    "    global neutralURL\r\n",
    "    global nLinkName\r\n",
    "\r\n",
    "    # Preprocess article to predict its political bias\r\n",
    "    tokenizer = Tokenizer(num_words=TOP_WORDS, split=' ')\r\n",
    "    tokenizer.fit_on_texts([text])\r\n",
    "    X = tokenizer.texts_to_sequences([text])\r\n",
    "    X = pad_sequences(X, maxlen=1000)\r\n",
    "    print(\"Article has been preprocessed and a prediction is being made...\")\r\n",
    "    \r\n",
    "    # Predict if the article is politically biased, and, if so, which way is it biased.\r\n",
    "    prediction = loadedModel.predict(X)\r\n",
    "    print(\"Prediction: \", prediction)\r\n",
    "    print('Result: ', prediction[0])\r\n",
    "    print('Result:', prediction[0][0])\r\n",
    "    print('Result:', prediction[0][1])\r\n",
    "    if neutralURL == ' ' and prediction[0][0] <= NEUTRALEND and prediction[0][0] >= NEUTRALBEGIN:\r\n",
    "        print('neutral')\r\n",
    "        neutralURL = url\r\n",
    "        nLinkName = linkName\r\n",
    "\r\n",
    "    # Fill proper URLs based on prediction.\r\n",
    "    elif conservativeURL == ' ' and prediction[0][0] > NEUTRALEND:\r\n",
    "            print('Conservative')\r\n",
    "            conservativeURL = url\r\n",
    "            cLinkName = linkName\r\n",
    "\r\n",
    "    elif liberalURL == ' ' and prediction[0][0] < NEUTRALBEGIN:\r\n",
    "            print('Liberal')\r\n",
    "            liberalURL = url\r\n",
    "            lLinkName = linkName\r\n",
    "    print('Variables')\r\n",
    "    print(neutralURL, nLinkName, conservativeURL, cLinkName, liberalURL, lLinkName)\r\n",
    "\r\n",
    "print('its working')"
   ],
   "outputs": [
    {
     "output_type": "stream",
     "name": "stdout",
     "text": [
      "its working\n"
     ]
    }
   ],
   "metadata": {}
  },
  {
   "cell_type": "code",
   "execution_count": 39,
   "source": [
    "def results():\r\n",
    "    global conservativeURL\r\n",
    "    global liberalURL\r\n",
    "    global neutralURL\r\n",
    "    global cLinkName\r\n",
    "    global lLinkName\r\n",
    "    global nLinkName\r\n",
    "    global errMessage\r\n",
    "    global tokenizer\r\n",
    "\r\n",
    "    # Need to clear these fields to run another query\r\n",
    "    conservativeURL = ' '\r\n",
    "    liberalURL      = ' '\r\n",
    "    neutralURL      = ' '\r\n",
    "    cLinkName       = ' '\r\n",
    "    lLinkName       = ' '\r\n",
    "    nLinkName       = ' '\r\n",
    "    errMessage      = ' '\r\n",
    "    \r\n",
    "    \r\n",
    "    inputString = 'coronavirus vaccine'\r\n",
    "    # driver = webdriver.PhantomJS()    # Creates an invisible browser.\r\n",
    "    # driver.get('https://google.com/') # Navigates to Google.com.\r\n",
    "    # searchBarInput = driver.find_element_by_name('q') # Assigns query to Google Search bar.\r\n",
    "    if inputString != '':\r\n",
    "        print('You Searched for: ',inputString)\r\n",
    "\r\n",
    "    linkName=\"CNN Article\"\r\n",
    "    paragraphs=\"We are permitting the destruction of millions of American lives because we also lack the knowledge and understanding to treat and to cure addiction and the social forces that not only permit but often encourage drug and alcohol addiction \"\r\n",
    "    url=\"CNN.com\"\r\n",
    "    checkURL(url, paragraphs, linkName)\r\n",
    "    print('conservative url', conservativeURL)\r\n",
    "    \r\n",
    "    print('its working')\r\n",
    "        \r\n",
    "results()\r\n",
    "if conservativeURL !='' and liberalURL != '':\r\n",
    "        errMessage=\"Search for\" + 'inputString'+ \"has been completed\"\r\n",
    "        \r\n",
    "\r\n"
   ],
   "outputs": [
    {
     "output_type": "stream",
     "name": "stdout",
     "text": [
      "You Searched for:  coronavirus vaccine\n",
      "Article has been preprocessed and a prediction is being made...\n",
      "Prediction:  [[0.48908025 0.5109198 ]]\n",
      "Result:  [0.48908025 0.5109198 ]\n",
      "Result: 0.48908025\n",
      "Result: 0.5109198\n",
      "neutral\n",
      "Variables\n",
      "CNN.com CNN Article        \n",
      "conservative url  \n",
      "its working\n"
     ]
    }
   ],
   "metadata": {}
  }
 ],
 "metadata": {
  "orig_nbformat": 4,
  "language_info": {
   "name": "python",
   "version": "3.9.6",
   "mimetype": "text/x-python",
   "codemirror_mode": {
    "name": "ipython",
    "version": 3
   },
   "pygments_lexer": "ipython3",
   "nbconvert_exporter": "python",
   "file_extension": ".py"
  },
  "kernelspec": {
   "name": "python3",
   "display_name": "Python 3.9.6 64-bit"
  },
  "interpreter": {
   "hash": "38740d3277777e2cd7c6c2cc9d8addf5118fdf3f82b1b39231fd12aeac8aee8b"
  }
 },
 "nbformat": 4,
 "nbformat_minor": 2
}